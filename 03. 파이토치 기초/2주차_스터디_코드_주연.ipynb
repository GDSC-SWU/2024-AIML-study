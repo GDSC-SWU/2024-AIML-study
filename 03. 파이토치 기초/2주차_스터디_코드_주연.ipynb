{
  "nbformat": 4,
  "nbformat_minor": 0,
  "metadata": {
    "colab": {
      "provenance": []
    },
    "kernelspec": {
      "name": "python3",
      "display_name": "Python 3"
    },
    "language_info": {
      "name": "python"
    }
  },
  "cells": [
    {
      "cell_type": "markdown",
      "source": [
        "## 다중 선형 회귀"
      ],
      "metadata": {
        "id": "9jfxnYSdo5pv"
      }
    },
    {
      "cell_type": "code",
      "execution_count": 20,
      "metadata": {
        "id": "qsW2_LO3TWF-"
      },
      "outputs": [],
      "source": [
        "import torch\n",
        "from torch import nn\n",
        "from torch import optim\n",
        "from torch.utils.data import TensorDataset, DataLoader #데이터세트와 데이터로더 사용위해 임포트\n",
        "\n",
        "\n",
        "train_x = torch.FloatTensor([\n",
        "    [1, 2], [2, 3], [3, 4], [4, 5], [5, 6], [6, 7]\n",
        "])\n",
        "train_y = torch.FloatTensor([\n",
        "    [0.1, 1.5], [1, 2.8], [1.9, 4.1], [2.8, 5.4], [3.7, 6.7], [4.6, 8]\n",
        "])"
      ]
    },
    {
      "cell_type": "code",
      "source": [
        "train_dataset = TensorDataset(train_x, train_y)  #다변량 다중 선형 회귀를 계산하기 위해 해당 형태로 독립변수, 종속변수 입력\n",
        "#배치 크기를 2로 선언, 데이터 순서 변경을 참값으로 적용해 순서를 무작위로 변경, 배치 크기에 맞지 않는 배치 제거\n",
        "train_dataloader = DataLoader(train_dataset, batch_size=2, shuffle=True, drop_last=True)"
      ],
      "metadata": {
        "id": "gqgUr-rqo0Xc"
      },
      "execution_count": 21,
      "outputs": []
    },
    {
      "cell_type": "code",
      "source": [
        "model = nn.Linear(2, 2, bias=True) #입출력 데이터 차원의 크기는 2\n",
        "criterion = nn.MSELoss()\n",
        "optimizer = optim.SGD(model.parameters(), lr=0.001)"
      ],
      "metadata": {
        "id": "npggHOHao19o"
      },
      "execution_count": 22,
      "outputs": []
    },
    {
      "cell_type": "code",
      "source": [
        "for epoch in range(20000):\n",
        "    cost = 0.0 # 에폭마다 오차를 다시 계산하기 위해 초기화\n",
        "\n",
        "    for batch in train_dataloader: #오차가 아닌 손실을 계산함\n",
        "        x, y = batch\n",
        "        output = model(x)\n",
        "\n",
        "        loss = criterion(output, y)\n",
        "\n",
        "        optimizer.zero_grad()\n",
        "        loss.backward()\n",
        "        optimizer.step()\n",
        "\n",
        "        cost += loss\n",
        "\n",
        "    cost = cost / len(train_dataloader)\n",
        "\n",
        "    if (epoch + 1) % 1000 == 0:\n",
        "        print(f\"Epoch : {epoch+1:4d}, Model : {list(model.parameters())}, Cost : {cost:.3f}\")"
      ],
      "metadata": {
        "colab": {
          "base_uri": "https://localhost:8080/"
        },
        "id": "IwKzPxNCo2m4",
        "outputId": "84c2cf76-d08e-4c7e-d26f-d0c1c4f5c482"
      },
      "execution_count": 23,
      "outputs": [
        {
          "output_type": "stream",
          "name": "stdout",
          "text": [
            "Epoch : 1000, Model : [Parameter containing:\n",
            "tensor([[0.3287, 0.4243],\n",
            "        [0.2066, 1.0288]], requires_grad=True), Parameter containing:\n",
            "tensor([-0.6050, -0.5565], requires_grad=True)], Cost : 0.044\n",
            "Epoch : 2000, Model : [Parameter containing:\n",
            "tensor([[0.4780, 0.3471],\n",
            "        [0.2722, 0.9949]], requires_grad=True), Parameter containing:\n",
            "tensor([-0.8315, -0.6561], requires_grad=True)], Cost : 0.012\n",
            "Epoch : 3000, Model : [Parameter containing:\n",
            "tensor([[0.5541, 0.3077],\n",
            "        [0.3057, 0.9775]], requires_grad=True), Parameter containing:\n",
            "tensor([-0.9470, -0.7069], requires_grad=True)], Cost : 0.003\n",
            "Epoch : 4000, Model : [Parameter containing:\n",
            "tensor([[0.5929, 0.2877],\n",
            "        [0.3227, 0.9688]], requires_grad=True), Parameter containing:\n",
            "tensor([-1.0058, -0.7327], requires_grad=True)], Cost : 0.001\n",
            "Epoch : 5000, Model : [Parameter containing:\n",
            "tensor([[0.6126, 0.2775],\n",
            "        [0.3314, 0.9642]], requires_grad=True), Parameter containing:\n",
            "tensor([-1.0357, -0.7459], requires_grad=True)], Cost : 0.000\n",
            "Epoch : 6000, Model : [Parameter containing:\n",
            "tensor([[0.6227, 0.2723],\n",
            "        [0.3358, 0.9620]], requires_grad=True), Parameter containing:\n",
            "tensor([-1.0510, -0.7526], requires_grad=True)], Cost : 0.000\n",
            "Epoch : 7000, Model : [Parameter containing:\n",
            "tensor([[0.6278, 0.2696],\n",
            "        [0.3381, 0.9608]], requires_grad=True), Parameter containing:\n",
            "tensor([-1.0588, -0.7560], requires_grad=True)], Cost : 0.000\n",
            "Epoch : 8000, Model : [Parameter containing:\n",
            "tensor([[0.6304, 0.2683],\n",
            "        [0.3392, 0.9602]], requires_grad=True), Parameter containing:\n",
            "tensor([-1.0627, -0.7578], requires_grad=True)], Cost : 0.000\n",
            "Epoch : 9000, Model : [Parameter containing:\n",
            "tensor([[0.6318, 0.2676],\n",
            "        [0.3398, 0.9599]], requires_grad=True), Parameter containing:\n",
            "tensor([-1.0648, -0.7587], requires_grad=True)], Cost : 0.000\n",
            "Epoch : 10000, Model : [Parameter containing:\n",
            "tensor([[0.6324, 0.2672],\n",
            "        [0.3401, 0.9598]], requires_grad=True), Parameter containing:\n",
            "tensor([-1.0658, -0.7591], requires_grad=True)], Cost : 0.000\n",
            "Epoch : 11000, Model : [Parameter containing:\n",
            "tensor([[0.6328, 0.2670],\n",
            "        [0.3402, 0.9597]], requires_grad=True), Parameter containing:\n",
            "tensor([-1.0663, -0.7594], requires_grad=True)], Cost : 0.000\n",
            "Epoch : 12000, Model : [Parameter containing:\n",
            "tensor([[0.6330, 0.2670],\n",
            "        [0.3403, 0.9596]], requires_grad=True), Parameter containing:\n",
            "tensor([-1.0666, -0.7595], requires_grad=True)], Cost : 0.000\n",
            "Epoch : 13000, Model : [Parameter containing:\n",
            "tensor([[0.6330, 0.2669],\n",
            "        [0.3404, 0.9596]], requires_grad=True), Parameter containing:\n",
            "tensor([-1.0667, -0.7595], requires_grad=True)], Cost : 0.000\n",
            "Epoch : 14000, Model : [Parameter containing:\n",
            "tensor([[0.6331, 0.2669],\n",
            "        [0.3404, 0.9596]], requires_grad=True), Parameter containing:\n",
            "tensor([-1.0668, -0.7596], requires_grad=True)], Cost : 0.000\n",
            "Epoch : 15000, Model : [Parameter containing:\n",
            "tensor([[0.6331, 0.2669],\n",
            "        [0.3404, 0.9596]], requires_grad=True), Parameter containing:\n",
            "tensor([-1.0668, -0.7596], requires_grad=True)], Cost : 0.000\n",
            "Epoch : 16000, Model : [Parameter containing:\n",
            "tensor([[0.6331, 0.2669],\n",
            "        [0.3404, 0.9596]], requires_grad=True), Parameter containing:\n",
            "tensor([-1.0668, -0.7596], requires_grad=True)], Cost : 0.000\n",
            "Epoch : 17000, Model : [Parameter containing:\n",
            "tensor([[0.6331, 0.2668],\n",
            "        [0.3404, 0.9596]], requires_grad=True), Parameter containing:\n",
            "tensor([-1.0668, -0.7596], requires_grad=True)], Cost : 0.000\n",
            "Epoch : 18000, Model : [Parameter containing:\n",
            "tensor([[0.6331, 0.2668],\n",
            "        [0.3404, 0.9596]], requires_grad=True), Parameter containing:\n",
            "tensor([-1.0668, -0.7596], requires_grad=True)], Cost : 0.000\n",
            "Epoch : 19000, Model : [Parameter containing:\n",
            "tensor([[0.6331, 0.2668],\n",
            "        [0.3404, 0.9596]], requires_grad=True), Parameter containing:\n",
            "tensor([-1.0668, -0.7596], requires_grad=True)], Cost : 0.000\n",
            "Epoch : 20000, Model : [Parameter containing:\n",
            "tensor([[0.6331, 0.2668],\n",
            "        [0.3404, 0.9596]], requires_grad=True), Parameter containing:\n",
            "tensor([-1.0668, -0.7596], requires_grad=True)], Cost : 0.000\n"
          ]
        }
      ]
    },
    {
      "cell_type": "markdown",
      "source": [
        "## 편향 제거"
      ],
      "metadata": {
        "id": "nBGB2WFFo9KF"
      }
    },
    {
      "cell_type": "code",
      "source": [
        "train_x = torch.FloatTensor([\n",
        "    [1, 2], [2, 3], [3, 4], [4, 5], [5, 6], [6, 7]\n",
        "])\n",
        "train_y = torch.FloatTensor([\n",
        "    [0.1, 1.5], [1, 2.8], [1.9, 4.1], [2.8, 5.4], [3.7, 6.7], [4.6, 8]\n",
        "])"
      ],
      "metadata": {
        "id": "L32xok8ao40z"
      },
      "execution_count": 24,
      "outputs": []
    },
    {
      "cell_type": "code",
      "source": [
        "train_dataset = TensorDataset(train_x, train_y)\n",
        "train_dataloader = DataLoader(train_dataset, batch_size=2, shuffle=True, drop_last=True)"
      ],
      "metadata": {
        "id": "p7roi9cBpJoi"
      },
      "execution_count": 25,
      "outputs": []
    },
    {
      "cell_type": "code",
      "source": [
        "model = nn.Linear(2, 2, bias=False)\n",
        "criterion = nn.MSELoss()\n",
        "optimizer = optim.SGD(model.parameters(), lr=0.001)"
      ],
      "metadata": {
        "id": "zhMyNRFKpKF1"
      },
      "execution_count": 26,
      "outputs": []
    },
    {
      "cell_type": "code",
      "source": [
        "for epoch in range(20000):\n",
        "    cost = 0.0\n",
        "\n",
        "    for batch in train_dataloader: #오차가 아닌 손실을 계산\n",
        "        x, y = batch\n",
        "        output = model(x)\n",
        "\n",
        "        loss = criterion(output, y)\n",
        "\n",
        "        optimizer.zero_grad()\n",
        "        loss.backward()\n",
        "        optimizer.step()\n",
        "\n",
        "        cost += loss\n",
        "\n",
        "    cost = cost / len(train_dataloader)\n",
        "\n",
        "    if (epoch + 1) % 1000 == 0:\n",
        "        print(f\"Epoch : {epoch+1:4d}, Model : {list(model.parameters())}, Cost : {cost:.3f}\")"
      ],
      "metadata": {
        "colab": {
          "base_uri": "https://localhost:8080/"
        },
        "id": "GsPLS0WEpLjz",
        "outputId": "2ad8708a-5c43-4c8b-e838-c5f3ab7ab226"
      },
      "execution_count": 27,
      "outputs": [
        {
          "output_type": "stream",
          "name": "stdout",
          "text": [
            "Epoch : 1000, Model : [Parameter containing:\n",
            "tensor([[ 0.8144, -0.0836],\n",
            "        [ 0.9769,  0.2996]], requires_grad=True)], Cost : 0.051\n",
            "Epoch : 2000, Model : [Parameter containing:\n",
            "tensor([[ 0.9961, -0.2307],\n",
            "        [ 1.0021,  0.2792]], requires_grad=True)], Cost : 0.032\n",
            "Epoch : 3000, Model : [Parameter containing:\n",
            "tensor([[ 1.1405, -0.3477],\n",
            "        [ 1.0222,  0.2629]], requires_grad=True)], Cost : 0.020\n",
            "Epoch : 4000, Model : [Parameter containing:\n",
            "tensor([[ 1.2554, -0.4405],\n",
            "        [ 1.0382,  0.2500]], requires_grad=True)], Cost : 0.013\n",
            "Epoch : 5000, Model : [Parameter containing:\n",
            "tensor([[ 1.3466, -0.5143],\n",
            "        [ 1.0509,  0.2397]], requires_grad=True)], Cost : 0.008\n",
            "Epoch : 6000, Model : [Parameter containing:\n",
            "tensor([[ 1.4192, -0.5729],\n",
            "        [ 1.0610,  0.2316]], requires_grad=True)], Cost : 0.005\n",
            "Epoch : 7000, Model : [Parameter containing:\n",
            "tensor([[ 1.4768, -0.6195],\n",
            "        [ 1.0690,  0.2251]], requires_grad=True)], Cost : 0.003\n",
            "Epoch : 8000, Model : [Parameter containing:\n",
            "tensor([[ 1.5226, -0.6565],\n",
            "        [ 1.0753,  0.2199]], requires_grad=True)], Cost : 0.002\n",
            "Epoch : 9000, Model : [Parameter containing:\n",
            "tensor([[ 1.5590, -0.6860],\n",
            "        [ 1.0804,  0.2158]], requires_grad=True)], Cost : 0.001\n",
            "Epoch : 10000, Model : [Parameter containing:\n",
            "tensor([[ 1.5880, -0.7094],\n",
            "        [ 1.0844,  0.2126]], requires_grad=True)], Cost : 0.001\n",
            "Epoch : 11000, Model : [Parameter containing:\n",
            "tensor([[ 1.6110, -0.7280],\n",
            "        [ 1.0876,  0.2100]], requires_grad=True)], Cost : 0.001\n",
            "Epoch : 12000, Model : [Parameter containing:\n",
            "tensor([[ 1.6292, -0.7428],\n",
            "        [ 1.0902,  0.2080]], requires_grad=True)], Cost : 0.000\n",
            "Epoch : 13000, Model : [Parameter containing:\n",
            "tensor([[ 1.6438, -0.7545],\n",
            "        [ 1.0922,  0.2063]], requires_grad=True)], Cost : 0.000\n",
            "Epoch : 14000, Model : [Parameter containing:\n",
            "tensor([[ 1.6553, -0.7639],\n",
            "        [ 1.0938,  0.2050]], requires_grad=True)], Cost : 0.000\n",
            "Epoch : 15000, Model : [Parameter containing:\n",
            "tensor([[ 1.6645, -0.7713],\n",
            "        [ 1.0951,  0.2040]], requires_grad=True)], Cost : 0.000\n",
            "Epoch : 16000, Model : [Parameter containing:\n",
            "tensor([[ 1.6718, -0.7772],\n",
            "        [ 1.0961,  0.2032]], requires_grad=True)], Cost : 0.000\n",
            "Epoch : 17000, Model : [Parameter containing:\n",
            "tensor([[ 1.6776, -0.7819],\n",
            "        [ 1.0969,  0.2025]], requires_grad=True)], Cost : 0.000\n",
            "Epoch : 18000, Model : [Parameter containing:\n",
            "tensor([[ 1.6822, -0.7856],\n",
            "        [ 1.0975,  0.2020]], requires_grad=True)], Cost : 0.000\n",
            "Epoch : 19000, Model : [Parameter containing:\n",
            "tensor([[ 1.6858, -0.7885],\n",
            "        [ 1.0980,  0.2016]], requires_grad=True)], Cost : 0.000\n",
            "Epoch : 20000, Model : [Parameter containing:\n",
            "tensor([[ 1.6887, -0.7909],\n",
            "        [ 1.0984,  0.2013]], requires_grad=True)], Cost : 0.000\n"
          ]
        }
      ]
    },
    {
      "cell_type": "markdown",
      "source": [
        "## 비선형 회귀"
      ],
      "metadata": {
        "id": "TZVGxw2xpRC1"
      }
    },
    {
      "cell_type": "code",
      "source": [
        "import torch\n",
        "import pandas as pd\n",
        "from torch import nn\n",
        "from torch import optim\n",
        "from torch.utils.data import Dataset, DataLoader\n",
        "class CustomDataset(Dataset):\n",
        "    def __init__(self, file_path):\n",
        "        df = pd.read_csv(file_path)\n",
        "        self.x = df.iloc[:, 0].values\n",
        "        self.y = df.iloc[:, 1].values\n",
        "        self.length = len(df)\n",
        "\n",
        "    def __getitem__(self, index):\n",
        "        x = torch.FloatTensor([self.x[index] ** 2, self.x[index]]) #결괏값이 이차 방정식형태라서\n",
        "        y = torch.FloatTensor([self.y[index]])\n",
        "        return x, y\n",
        "\n",
        "    def __len__(self):\n",
        "        return self.length"
      ],
      "metadata": {
        "id": "qyiyA4CdpVpE"
      },
      "execution_count": 28,
      "outputs": []
    },
    {
      "cell_type": "code",
      "source": [
        "class CustomModel(nn.Module):\n",
        "    def __init__(self):\n",
        "        super().__init__()\n",
        "        self.layer = nn.Linear(2, 1) #선형변환함수\n",
        "\n",
        "    def forward(self, x):\n",
        "        x = self.layer(x)\n",
        "        return x"
      ],
      "metadata": {
        "id": "0igT8YfUpZAV"
      },
      "execution_count": 29,
      "outputs": []
    },
    {
      "cell_type": "code",
      "source": [
        "train_dataset = CustomDataset(\"non_linear.csv\") #csv파일입력\n",
        "train_dataloader = DataLoader(train_dataset, batch_size=128, shuffle=True, drop_last=True)"
      ],
      "metadata": {
        "id": "9nLk2JCFpaiv"
      },
      "execution_count": 30,
      "outputs": []
    },
    {
      "cell_type": "code",
      "source": [
        "device = \"cuda\" if torch.cuda.is_available() else \"cpu\"\n",
        "model = CustomModel().to(device)\n",
        "criterion = nn.MSELoss().to(device) #평균 제곱 오차를 할당\n",
        "optimizer = optim.SGD(model.parameters(), lr=0.0001)"
      ],
      "metadata": {
        "id": "s9DTYV7Tpcb1"
      },
      "execution_count": 31,
      "outputs": []
    },
    {
      "cell_type": "code",
      "source": [
        "for epoch in range(10000):\n",
        "    cost = 0.0\n",
        "\n",
        "    for x, y in train_dataloader:\n",
        "        x = x.to(device)\n",
        "        y = y.to(device)\n",
        "\n",
        "        output = model(x)\n",
        "        loss = criterion(output, y)\n",
        "\n",
        "        optimizer.zero_grad()\n",
        "        loss.backward()\n",
        "        optimizer.step()\n",
        "\n",
        "        cost += loss\n",
        "\n",
        "    cost = cost / len(train_dataloader)\n",
        "\n",
        "    if (epoch + 1) % 1000 == 0:\n",
        "        print(f\"Epoch : {epoch+1:4d}, Model : {list(model.parameters())}, Cost : {cost:.3f}\")"
      ],
      "metadata": {
        "colab": {
          "base_uri": "https://localhost:8080/"
        },
        "id": "9UPkNojKpd2A",
        "outputId": "235e0d82-c1e0-44ed-ba55-9260a72283b0"
      },
      "execution_count": 32,
      "outputs": [
        {
          "output_type": "stream",
          "name": "stdout",
          "text": [
            "Epoch : 1000, Model : [Parameter containing:\n",
            "tensor([[ 3.1060, -1.6996]], requires_grad=True), Parameter containing:\n",
            "tensor([0.1573], requires_grad=True)], Cost : 0.129\n",
            "Epoch : 2000, Model : [Parameter containing:\n",
            "tensor([[ 3.1049, -1.7029]], requires_grad=True), Parameter containing:\n",
            "tensor([0.1859], requires_grad=True)], Cost : 0.117\n",
            "Epoch : 3000, Model : [Parameter containing:\n",
            "tensor([[ 3.1049, -1.7030]], requires_grad=True), Parameter containing:\n",
            "tensor([0.2120], requires_grad=True)], Cost : 0.102\n",
            "Epoch : 4000, Model : [Parameter containing:\n",
            "tensor([[ 3.1044, -1.7028]], requires_grad=True), Parameter containing:\n",
            "tensor([0.2361], requires_grad=True)], Cost : 0.100\n",
            "Epoch : 5000, Model : [Parameter containing:\n",
            "tensor([[ 3.1040, -1.7032]], requires_grad=True), Parameter containing:\n",
            "tensor([0.2580], requires_grad=True)], Cost : 0.110\n",
            "Epoch : 6000, Model : [Parameter containing:\n",
            "tensor([[ 3.1036, -1.7032]], requires_grad=True), Parameter containing:\n",
            "tensor([0.2780], requires_grad=True)], Cost : 0.095\n",
            "Epoch : 7000, Model : [Parameter containing:\n",
            "tensor([[ 3.1031, -1.7033]], requires_grad=True), Parameter containing:\n",
            "tensor([0.2964], requires_grad=True)], Cost : 0.095\n",
            "Epoch : 8000, Model : [Parameter containing:\n",
            "tensor([[ 3.1031, -1.7032]], requires_grad=True), Parameter containing:\n",
            "tensor([0.3131], requires_grad=True)], Cost : 0.089\n",
            "Epoch : 9000, Model : [Parameter containing:\n",
            "tensor([[ 3.1025, -1.7031]], requires_grad=True), Parameter containing:\n",
            "tensor([0.3285], requires_grad=True)], Cost : 0.094\n",
            "Epoch : 10000, Model : [Parameter containing:\n",
            "tensor([[ 3.1029, -1.7029]], requires_grad=True), Parameter containing:\n",
            "tensor([0.3426], requires_grad=True)], Cost : 0.083\n"
          ]
        }
      ]
    },
    {
      "cell_type": "code",
      "source": [
        "with torch.no_grad():\n",
        "    model.eval()\n",
        "    inputs = torch.FloatTensor(\n",
        "        [\n",
        "            [1 ** 2, 1],\n",
        "            [5 ** 2, 5],\n",
        "            [11 ** 2, 11]\n",
        "        ]\n",
        "    ).to(device)\n",
        "    outputs = model(inputs)\n",
        "    print(outputs)"
      ],
      "metadata": {
        "colab": {
          "base_uri": "https://localhost:8080/"
        },
        "id": "Uppy6Rx3pgWp",
        "outputId": "f1ae1c1c-0873-476b-e5a1-4081071db841"
      },
      "execution_count": 33,
      "outputs": [
        {
          "output_type": "stream",
          "name": "stdout",
          "text": [
            "tensor([[  1.7426],\n",
            "        [ 69.3994],\n",
            "        [357.0559]])\n"
          ]
        }
      ]
    },
    {
      "cell_type": "code",
      "source": [
        "torch.save(\n",
        "    model,\n",
        "    \"model.pt\"\n",
        ")"
      ],
      "metadata": {
        "id": "Baq67fqwpiLl"
      },
      "execution_count": 34,
      "outputs": []
    },
    {
      "cell_type": "code",
      "source": [
        "torch.save(\n",
        "    model.state_dict(),\n",
        "    \"model_state_dict.pt\"\n",
        ")"
      ],
      "metadata": {
        "id": "2vngcCCdpjo4"
      },
      "execution_count": 35,
      "outputs": []
    },
    {
      "cell_type": "markdown",
      "source": [
        "## 검증용 데이터세트를 통한 평가"
      ],
      "metadata": {
        "id": "Uk0Pee8bplhR"
      }
    },
    {
      "cell_type": "code",
      "source": [
        "import torch\n",
        "import pandas as pd\n",
        "from torch import nn\n",
        "from torch import optim\n",
        "from torch.utils.data import Dataset, DataLoader, random_split"
      ],
      "metadata": {
        "id": "KgIdK96uplFw"
      },
      "execution_count": 36,
      "outputs": []
    },
    {
      "cell_type": "code",
      "source": [
        "class CustomDataset(Dataset):\n",
        "    def __init__(self, file_path):\n",
        "        df = pd.read_csv(file_path)\n",
        "        self.x = df.iloc[:, 0].values\n",
        "        self.y = df.iloc[:, 1].values\n",
        "        self.length = len(df)\n",
        "\n",
        "    def __getitem__(self, index):\n",
        "        x = torch.FloatTensor([self.x[index] ** 2, self.x[index]])\n",
        "        y = torch.FloatTensor([self.y[index]])\n",
        "        return x, y\n",
        "\n",
        "    def __len__(self):\n",
        "        return self.length"
      ],
      "metadata": {
        "id": "3Lu39-Jopsa4"
      },
      "execution_count": 37,
      "outputs": []
    },
    {
      "cell_type": "code",
      "source": [
        "class CustomModel(nn.Module):\n",
        "    def __init__(self):\n",
        "        super().__init__()\n",
        "        self.layer = nn.Linear(2, 1)\n",
        "\n",
        "    def forward(self, x):\n",
        "        x = self.layer(x)\n",
        "        return x"
      ],
      "metadata": {
        "id": "Ur2GGwQPpuMz"
      },
      "execution_count": 38,
      "outputs": []
    },
    {
      "cell_type": "code",
      "source": [
        "dataset = CustomDataset(\"non_linear.csv\")\n",
        "dataset_size = len(dataset)\n",
        "train_size = int(dataset_size * 0.8)\n",
        "validation_size = int(dataset_size * 0.1)\n",
        "test_size = dataset_size - train_size - validation_size\n",
        "\n",
        "train_dataset, validation_dataset, test_dataset = random_split(dataset, [train_size, validation_size, test_size])\n",
        "print(f\"Training Data Size : {len(train_dataset)}\")\n",
        "print(f\"Validation Data Size : {len(validation_dataset)}\")\n",
        "print(f\"Testing Data Size : {len(test_dataset)}\")\n",
        "\n",
        "train_dataloader = DataLoader(train_dataset, batch_size=16, shuffle=True, drop_last=True)\n",
        "validation_dataloader = DataLoader(validation_dataset, batch_size=4, shuffle=True, drop_last=True)\n",
        "test_dataloader = DataLoader(test_dataset, batch_size=4, shuffle=True, drop_last=True)"
      ],
      "metadata": {
        "colab": {
          "base_uri": "https://localhost:8080/"
        },
        "id": "ODFZGGY5pvwd",
        "outputId": "812571e5-2e80-4bde-fd7b-7e2aa35edd61"
      },
      "execution_count": 39,
      "outputs": [
        {
          "output_type": "stream",
          "name": "stdout",
          "text": [
            "Training Data Size : 160\n",
            "Validation Data Size : 20\n",
            "Testing Data Size : 20\n"
          ]
        }
      ]
    },
    {
      "cell_type": "code",
      "source": [
        "device = \"cuda\" if torch.cuda.is_available() else \"cpu\"\n",
        "model = CustomModel().to(device)\n",
        "criterion = nn.MSELoss().to(device)\n",
        "optimizer = optim.SGD(model.parameters(), lr=0.0001)"
      ],
      "metadata": {
        "id": "jsOpC7xZpxof"
      },
      "execution_count": 40,
      "outputs": []
    },
    {
      "cell_type": "code",
      "source": [
        "for epoch in range(10000):\n",
        "    cost = 0.0\n",
        "\n",
        "    for x, y in train_dataloader:\n",
        "        x = x.to(device)\n",
        "        y = y.to(device)\n",
        "\n",
        "        output = model(x)\n",
        "        loss = criterion(output, y)\n",
        "\n",
        "        optimizer.zero_grad()\n",
        "        loss.backward()\n",
        "        optimizer.step()\n",
        "\n",
        "        cost += loss\n",
        "\n",
        "    cost = cost / len(train_dataloader)\n",
        "\n",
        "    if (epoch + 1) % 1000 == 0:\n",
        "        print(f\"Epoch : {epoch+1:4d}, Model : {list(model.parameters())}, Cost : {cost:.3f}\")"
      ],
      "metadata": {
        "colab": {
          "base_uri": "https://localhost:8080/"
        },
        "id": "wZFhRtv3pzRn",
        "outputId": "9caa10bb-79cb-455e-d920-1df8a138ed20"
      },
      "execution_count": 41,
      "outputs": [
        {
          "output_type": "stream",
          "name": "stdout",
          "text": [
            "Epoch : 1000, Model : [Parameter containing:\n",
            "tensor([[ 3.0977, -1.7031]], requires_grad=True), Parameter containing:\n",
            "tensor([0.5894], requires_grad=True)], Cost : 0.086\n",
            "Epoch : 2000, Model : [Parameter containing:\n",
            "tensor([[ 3.1007, -1.7036]], requires_grad=True), Parameter containing:\n",
            "tensor([0.5305], requires_grad=True)], Cost : 0.082\n",
            "Epoch : 3000, Model : [Parameter containing:\n",
            "tensor([[ 3.0997, -1.7035]], requires_grad=True), Parameter containing:\n",
            "tensor([0.5061], requires_grad=True)], Cost : 0.081\n",
            "Epoch : 4000, Model : [Parameter containing:\n",
            "tensor([[ 3.0987, -1.7034]], requires_grad=True), Parameter containing:\n",
            "tensor([0.4962], requires_grad=True)], Cost : 0.079\n",
            "Epoch : 5000, Model : [Parameter containing:\n",
            "tensor([[ 3.0997, -1.7035]], requires_grad=True), Parameter containing:\n",
            "tensor([0.4920], requires_grad=True)], Cost : 0.081\n",
            "Epoch : 6000, Model : [Parameter containing:\n",
            "tensor([[ 3.1002, -1.7036]], requires_grad=True), Parameter containing:\n",
            "tensor([0.4902], requires_grad=True)], Cost : 0.082\n",
            "Epoch : 7000, Model : [Parameter containing:\n",
            "tensor([[ 3.0987, -1.7034]], requires_grad=True), Parameter containing:\n",
            "tensor([0.4894], requires_grad=True)], Cost : 0.081\n",
            "Epoch : 8000, Model : [Parameter containing:\n",
            "tensor([[ 3.1000, -1.7035]], requires_grad=True), Parameter containing:\n",
            "tensor([0.4892], requires_grad=True)], Cost : 0.080\n",
            "Epoch : 9000, Model : [Parameter containing:\n",
            "tensor([[ 3.0994, -1.7035]], requires_grad=True), Parameter containing:\n",
            "tensor([0.4891], requires_grad=True)], Cost : 0.082\n",
            "Epoch : 10000, Model : [Parameter containing:\n",
            "tensor([[ 3.0999, -1.7034]], requires_grad=True), Parameter containing:\n",
            "tensor([0.4891], requires_grad=True)], Cost : 0.081\n"
          ]
        }
      ]
    },
    {
      "cell_type": "code",
      "source": [
        "    model.eval()\n",
        "    for x, y in validation_dataloader:\n",
        "        x = x.to(device)\n",
        "        y = y.to(device)\n",
        "\n",
        "        outputs = model(x)\n",
        "        print(f\"X : {x}\")\n",
        "        print(f\"Y : {y}\")\n",
        "        print(f\"Outputs : {outputs}\")\n",
        "        print(\"--------------------\")"
      ],
      "metadata": {
        "colab": {
          "base_uri": "https://localhost:8080/"
        },
        "id": "M2YK4_5lp1ER",
        "outputId": "dd4e439a-33a4-4ee4-a7b7-a55a4b8017e7"
      },
      "execution_count": 42,
      "outputs": [
        {
          "output_type": "stream",
          "name": "stdout",
          "text": [
            "X : tensor([[ 1.4400,  1.2000],\n",
            "        [31.3600,  5.6000],\n",
            "        [72.2500, -8.5000],\n",
            "        [ 7.2900,  2.7000]])\n",
            "Y : tensor([[  2.8300],\n",
            "        [ 88.2700],\n",
            "        [238.8400],\n",
            "        [ 18.2600]])\n",
            "Outputs : tensor([[  2.9088],\n",
            "        [ 88.1615],\n",
            "        [238.9327],\n",
            "        [ 18.4878]], grad_fn=<AddmmBackward0>)\n",
            "--------------------\n",
            "X : tensor([[ 7.5690e+01, -8.7000e+00],\n",
            "        [ 1.0000e-02, -1.0000e-01],\n",
            "        [ 1.4400e+00, -1.2000e+00],\n",
            "        [ 2.9160e+01,  5.4000e+00]])\n",
            "Y : tensor([[250.0600],\n",
            "        [  0.6800],\n",
            "        [  6.6500],\n",
            "        [ 81.9000]])\n",
            "Outputs : tensor([[249.9369],\n",
            "        [  0.6904],\n",
            "        [  6.9970],\n",
            "        [ 81.6825]], grad_fn=<AddmmBackward0>)\n",
            "--------------------\n",
            "X : tensor([[56.2500, -7.5000],\n",
            "        [ 0.3600,  0.6000],\n",
            "        [47.6100, -6.9000],\n",
            "        [17.6400, -4.2000]])\n",
            "Y : tensor([[187.6300],\n",
            "        [  0.2600],\n",
            "        [160.0900],\n",
            "        [ 62.6700]])\n",
            "Outputs : tensor([[187.6316],\n",
            "        [  0.5830],\n",
            "        [159.8268],\n",
            "        [ 62.3249]], grad_fn=<AddmmBackward0>)\n",
            "--------------------\n",
            "X : tensor([[ 1.0000,  1.0000],\n",
            "        [ 0.8100,  0.9000],\n",
            "        [13.6900,  3.7000],\n",
            "        [42.2500, -6.5000]])\n",
            "Y : tensor([[  2.0000],\n",
            "        [  1.4000],\n",
            "        [ 36.3000],\n",
            "        [142.6600]])\n",
            "Outputs : tensor([[  1.8855],\n",
            "        [  1.4669],\n",
            "        [ 36.6235],\n",
            "        [142.5302]], grad_fn=<AddmmBackward0>)\n",
            "--------------------\n",
            "X : tensor([[49.0000,  7.0000],\n",
            "        [ 1.2100, -1.1000],\n",
            "        [30.2500, -5.5000],\n",
            "        [24.0100,  4.9000]])\n",
            "Y : tensor([[140.3900],\n",
            "        [  6.4800],\n",
            "        [103.5500],\n",
            "        [ 66.4200]])\n",
            "Outputs : tensor([[140.4582],\n",
            "        [  6.1137],\n",
            "        [103.6285],\n",
            "        [ 66.5699]], grad_fn=<AddmmBackward0>)\n",
            "--------------------\n"
          ]
        }
      ]
    },
    {
      "cell_type": "markdown",
      "source": [
        "## 모델 불러오기"
      ],
      "metadata": {
        "id": "SQy5OGHdp6ZX"
      }
    },
    {
      "cell_type": "code",
      "source": [
        "class CustomModel(nn.Module):\n",
        "    def __init__(self):\n",
        "        super().__init__()\n",
        "        self.layer = nn.Linear(2, 1)\n",
        "\n",
        "    def forward(self, x):\n",
        "        x = self.layer(x)\n",
        "        return x"
      ],
      "metadata": {
        "id": "BHWODgBkp3Ue"
      },
      "execution_count": 43,
      "outputs": []
    },
    {
      "cell_type": "code",
      "source": [
        "device = \"cuda\" if torch.cuda.is_available() else \"cpu\"\n",
        "model = torch.load(\"model.pt\", map_location=device) #모델을 불러올 때 적용하려는 장치 상태의미\n",
        "print(model)"
      ],
      "metadata": {
        "colab": {
          "base_uri": "https://localhost:8080/"
        },
        "id": "k4V5jxvPp9DM",
        "outputId": "a72345b2-250e-4fd8-e019-7222142a3191"
      },
      "execution_count": 44,
      "outputs": [
        {
          "output_type": "stream",
          "name": "stdout",
          "text": [
            "CustomModel(\n",
            "  (layer): Linear(in_features=2, out_features=1, bias=True)\n",
            ")\n"
          ]
        },
        {
          "output_type": "stream",
          "name": "stderr",
          "text": [
            "<ipython-input-44-f2f2ba7b7f4f>:2: FutureWarning: You are using `torch.load` with `weights_only=False` (the current default value), which uses the default pickle module implicitly. It is possible to construct malicious pickle data which will execute arbitrary code during unpickling (See https://github.com/pytorch/pytorch/blob/main/SECURITY.md#untrusted-models for more details). In a future release, the default value for `weights_only` will be flipped to `True`. This limits the functions that could be executed during unpickling. Arbitrary objects will no longer be allowed to be loaded via this mode unless they are explicitly allowlisted by the user via `torch.serialization.add_safe_globals`. We recommend you start setting `weights_only=True` for any use case where you don't have full control of the loaded file. Please open an issue on GitHub for any issues related to this experimental feature.\n",
            "  model = torch.load(\"model.pt\", map_location=device)\n"
          ]
        }
      ]
    },
    {
      "cell_type": "code",
      "source": [
        "with torch.no_grad(): #테스트 데이터세트나 임의의 값으로 모델을 확인하거나 평가할 때 사용함\n",
        "    model.eval()\n",
        "    inputs = torch.FloatTensor(\n",
        "        [\n",
        "            [1 ** 2, 1],\n",
        "            [5 ** 2, 5],\n",
        "            [11 ** 2, 11]\n",
        "        ]\n",
        "    ).to(device)\n",
        "    outputs = model(inputs)\n",
        "    print(outputs)"
      ],
      "metadata": {
        "colab": {
          "base_uri": "https://localhost:8080/"
        },
        "id": "DXSrSYzdp-wF",
        "outputId": "259af3b8-f187-4e4a-ffab-306dbdaad8ba"
      },
      "execution_count": 45,
      "outputs": [
        {
          "output_type": "stream",
          "name": "stdout",
          "text": [
            "tensor([[  1.7426],\n",
            "        [ 69.3994],\n",
            "        [357.0559]])\n"
          ]
        }
      ]
    },
    {
      "cell_type": "markdown",
      "source": [
        "## 모델 구조 확인"
      ],
      "metadata": {
        "id": "GIVkasc8qAQF"
      }
    },
    {
      "cell_type": "code",
      "source": [
        "class CustomModel(nn.Module):\n",
        "    pass"
      ],
      "metadata": {
        "id": "H4y6BysvqEhp"
      },
      "execution_count": 46,
      "outputs": []
    },
    {
      "cell_type": "code",
      "source": [
        "device = \"cuda\" if torch.cuda.is_available() else \"cpu\"\n",
        "model = torch.load(\"model.pt\", map_location=device)\n",
        "print(model)"
      ],
      "metadata": {
        "colab": {
          "base_uri": "https://localhost:8080/"
        },
        "id": "Qzp38N9wqGYH",
        "outputId": "321939d4-e2f5-475f-8193-7cfb1f1e3e56"
      },
      "execution_count": 47,
      "outputs": [
        {
          "output_type": "stream",
          "name": "stdout",
          "text": [
            "CustomModel(\n",
            "  (layer): Linear(in_features=2, out_features=1, bias=True)\n",
            ")\n"
          ]
        },
        {
          "output_type": "stream",
          "name": "stderr",
          "text": [
            "<ipython-input-47-f2f2ba7b7f4f>:2: FutureWarning: You are using `torch.load` with `weights_only=False` (the current default value), which uses the default pickle module implicitly. It is possible to construct malicious pickle data which will execute arbitrary code during unpickling (See https://github.com/pytorch/pytorch/blob/main/SECURITY.md#untrusted-models for more details). In a future release, the default value for `weights_only` will be flipped to `True`. This limits the functions that could be executed during unpickling. Arbitrary objects will no longer be allowed to be loaded via this mode unless they are explicitly allowlisted by the user via `torch.serialization.add_safe_globals`. We recommend you start setting `weights_only=True` for any use case where you don't have full control of the loaded file. Please open an issue on GitHub for any issues related to this experimental feature.\n",
            "  model = torch.load(\"model.pt\", map_location=device)\n"
          ]
        }
      ]
    },
    {
      "cell_type": "markdown",
      "source": [
        "## 모델 상태 저장"
      ],
      "metadata": {
        "id": "Pzx6S36PqH79"
      }
    },
    {
      "cell_type": "code",
      "source": [
        "class CustomDataset(Dataset):\n",
        "    def __init__(self, file_path):\n",
        "        df = pd.read_csv(file_path)\n",
        "        self.x = df.iloc[:, 0].values\n",
        "        self.y = df.iloc[:, 1].values\n",
        "        self.length = len(df)\n",
        "\n",
        "    def __getitem__(self, index):\n",
        "        x = torch.FloatTensor([self.x[index] ** 2, self.x[index]])\n",
        "        y = torch.FloatTensor([self.y[index]])\n",
        "        return x, y\n",
        "\n",
        "    def __len__(self):\n",
        "        return self.length\n",
        "\n",
        "class CustomModel(nn.Module):\n",
        "    def __init__(self):\n",
        "        super().__init__()\n",
        "        self.layer = nn.Linear(2, 1)\n",
        "\n",
        "    def forward(self, x):\n",
        "        x = self.layer(x)\n",
        "        return x"
      ],
      "metadata": {
        "id": "LRl5bQK8qLVl"
      },
      "execution_count": 48,
      "outputs": []
    },
    {
      "cell_type": "code",
      "source": [
        "train_dataset = CustomDataset(\"non_linear.csv\")\n",
        "train_dataloader = DataLoader(train_dataset, batch_size=128, shuffle=True, drop_last=True)\n",
        "\n",
        "device = \"cuda\" if torch.cuda.is_available() else \"cpu\"\n",
        "model = CustomModel().to(device)\n",
        "criterion = nn.MSELoss().to(device)\n",
        "optimizer = optim.SGD(model.parameters(), lr=0.0001)"
      ],
      "metadata": {
        "id": "jsdSMVLiqOD6"
      },
      "execution_count": 49,
      "outputs": []
    },
    {
      "cell_type": "code",
      "source": [
        "for epoch in range(10000):\n",
        "    cost = 0.0\n",
        "\n",
        "    for x, y in train_dataloader:\n",
        "        x = x.to(device)\n",
        "        y = y.to(device)\n",
        "\n",
        "        output = model(x)\n",
        "        loss = criterion(output, y)\n",
        "\n",
        "        optimizer.zero_grad()\n",
        "        loss.backward()\n",
        "        optimizer.step()\n",
        "\n",
        "        cost += loss\n",
        "\n",
        "    cost = cost / len(train_dataloader)\n",
        "\n",
        "    if (epoch + 1) % 1000 == 0:\n",
        "        print(f\"Epoch : {epoch+1:4d}, Model : {list(model.parameters())}, Cost : {cost:.3f}\")"
      ],
      "metadata": {
        "colab": {
          "base_uri": "https://localhost:8080/"
        },
        "id": "ZsglNqg4qPvB",
        "outputId": "83f46ce1-a784-4090-c135-debaa9d694b4"
      },
      "execution_count": 50,
      "outputs": [
        {
          "output_type": "stream",
          "name": "stdout",
          "text": [
            "Epoch : 1000, Model : [Parameter containing:\n",
            "tensor([[ 3.1011, -1.7003]], requires_grad=True), Parameter containing:\n",
            "tensor([0.4172], requires_grad=True)], Cost : 0.081\n",
            "Epoch : 2000, Model : [Parameter containing:\n",
            "tensor([[ 3.1009, -1.7033]], requires_grad=True), Parameter containing:\n",
            "tensor([0.4238], requires_grad=True)], Cost : 0.075\n",
            "Epoch : 3000, Model : [Parameter containing:\n",
            "tensor([[ 3.1009, -1.7033]], requires_grad=True), Parameter containing:\n",
            "tensor([0.4298], requires_grad=True)], Cost : 0.078\n",
            "Epoch : 4000, Model : [Parameter containing:\n",
            "tensor([[ 3.1009, -1.7032]], requires_grad=True), Parameter containing:\n",
            "tensor([0.4351], requires_grad=True)], Cost : 0.077\n",
            "Epoch : 5000, Model : [Parameter containing:\n",
            "tensor([[ 3.1010, -1.7031]], requires_grad=True), Parameter containing:\n",
            "tensor([0.4401], requires_grad=True)], Cost : 0.072\n",
            "Epoch : 6000, Model : [Parameter containing:\n",
            "tensor([[ 3.1010, -1.7032]], requires_grad=True), Parameter containing:\n",
            "tensor([0.4446], requires_grad=True)], Cost : 0.077\n",
            "Epoch : 7000, Model : [Parameter containing:\n",
            "tensor([[ 3.1008, -1.7032]], requires_grad=True), Parameter containing:\n",
            "tensor([0.4489], requires_grad=True)], Cost : 0.070\n",
            "Epoch : 8000, Model : [Parameter containing:\n",
            "tensor([[ 3.1008, -1.7033]], requires_grad=True), Parameter containing:\n",
            "tensor([0.4528], requires_grad=True)], Cost : 0.079\n",
            "Epoch : 9000, Model : [Parameter containing:\n",
            "tensor([[ 3.1007, -1.7031]], requires_grad=True), Parameter containing:\n",
            "tensor([0.4563], requires_grad=True)], Cost : 0.081\n",
            "Epoch : 10000, Model : [Parameter containing:\n",
            "tensor([[ 3.1005, -1.7033]], requires_grad=True), Parameter containing:\n",
            "tensor([0.4596], requires_grad=True)], Cost : 0.079\n"
          ]
        }
      ]
    },
    {
      "cell_type": "code",
      "source": [
        "with torch.no_grad():\n",
        "    model.eval()\n",
        "    inputs = torch.FloatTensor(\n",
        "        [\n",
        "            [1 ** 2, 1],\n",
        "            [5 ** 2, 5],\n",
        "            [11 ** 2, 11]\n",
        "        ]\n",
        "    ).to(device)\n",
        "    outputs = model(inputs)\n",
        "    print(outputs)"
      ],
      "metadata": {
        "colab": {
          "base_uri": "https://localhost:8080/"
        },
        "id": "ZVXZM0rlqRi6",
        "outputId": "15e06f49-b3b8-4dbb-ecf0-bd3567d66b8f"
      },
      "execution_count": 51,
      "outputs": [
        {
          "output_type": "stream",
          "name": "stdout",
          "text": [
            "tensor([[  1.8568],\n",
            "        [ 69.4565],\n",
            "        [356.8883]])\n"
          ]
        }
      ]
    },
    {
      "cell_type": "code",
      "source": [
        "torch.save(\n",
        "    model.state_dict(),\n",
        "    \"model_state_dict.pt\"\n",
        ")"
      ],
      "metadata": {
        "id": "6bAif-6lqTL4"
      },
      "execution_count": 52,
      "outputs": []
    },
    {
      "cell_type": "markdown",
      "source": [
        "## 모델 상태 불러오기"
      ],
      "metadata": {
        "id": "M03Ov9dcqUtK"
      }
    },
    {
      "cell_type": "code",
      "source": [
        "class CustomModel(nn.Module): #이 클러스를 선언하지 않으면, AtrributeError 오류 발생함\n",
        "    def __init__(self):\n",
        "        super().__init__()\n",
        "        self.layer = nn.Linear(2, 1)\n",
        "\n",
        "    def forward(self, x):\n",
        "        x = self.layer(x)\n",
        "        return x"
      ],
      "metadata": {
        "id": "Q1K9-J1JqYC1"
      },
      "execution_count": 53,
      "outputs": []
    },
    {
      "cell_type": "code",
      "source": [
        "device = \"cuda\" if torch.cuda.is_available() else \"cpu\"\n",
        "model = CustomModel().to(device)\n",
        "\n",
        "model_state_dict = torch.load(\"model_state_dict.pt\", map_location=device)\n",
        "model.load_state_dict(model_state_dict)"
      ],
      "metadata": {
        "colab": {
          "base_uri": "https://localhost:8080/"
        },
        "id": "uJaf1ux-qaCY",
        "outputId": "14445214-0499-479f-cce8-f78d72642c7c"
      },
      "execution_count": 54,
      "outputs": [
        {
          "output_type": "stream",
          "name": "stderr",
          "text": [
            "<ipython-input-54-589c87b2dd3a>:4: FutureWarning: You are using `torch.load` with `weights_only=False` (the current default value), which uses the default pickle module implicitly. It is possible to construct malicious pickle data which will execute arbitrary code during unpickling (See https://github.com/pytorch/pytorch/blob/main/SECURITY.md#untrusted-models for more details). In a future release, the default value for `weights_only` will be flipped to `True`. This limits the functions that could be executed during unpickling. Arbitrary objects will no longer be allowed to be loaded via this mode unless they are explicitly allowlisted by the user via `torch.serialization.add_safe_globals`. We recommend you start setting `weights_only=True` for any use case where you don't have full control of the loaded file. Please open an issue on GitHub for any issues related to this experimental feature.\n",
            "  model_state_dict = torch.load(\"model_state_dict.pt\", map_location=device)\n"
          ]
        },
        {
          "output_type": "execute_result",
          "data": {
            "text/plain": [
              "<All keys matched successfully>"
            ]
          },
          "metadata": {},
          "execution_count": 54
        }
      ]
    },
    {
      "cell_type": "code",
      "source": [
        "with torch.no_grad():\n",
        "    model.eval()\n",
        "    inputs = torch.FloatTensor(\n",
        "        [\n",
        "            [1 ** 2, 1],\n",
        "            [5 ** 2, 5],\n",
        "            [11 ** 2, 11]\n",
        "        ]\n",
        "    ).to(device)\n",
        "    outputs = model(inputs)"
      ],
      "metadata": {
        "id": "2B9T3f6Sqbr1"
      },
      "execution_count": 55,
      "outputs": []
    },
    {
      "cell_type": "markdown",
      "source": [
        "## 체크 포인트 저장"
      ],
      "metadata": {
        "id": "Nd70CS4cqk62"
      }
    },
    {
      "cell_type": "code",
      "source": [
        "class CustomDataset(Dataset):\n",
        "    def __init__(self, file_path):\n",
        "        df = pd.read_csv(file_path)\n",
        "        self.x = df.iloc[:, 0].values\n",
        "        self.y = df.iloc[:, 1].values\n",
        "        self.length = len(df)\n",
        "\n",
        "    def __getitem__(self, index):\n",
        "        x = torch.FloatTensor([self.x[index] ** 2, self.x[index]])\n",
        "        y = torch.FloatTensor([self.y[index]])\n",
        "        return x, y\n",
        "\n",
        "    def __len__(self):\n",
        "        return self.length\n",
        "\n",
        "class CustomModel(nn.Module):\n",
        "    def __init__(self):\n",
        "        super().__init__()\n",
        "        self.layer = nn.Linear(2, 1)\n",
        "\n",
        "    def forward(self, x):\n",
        "        x = self.layer(x)\n",
        "        return x"
      ],
      "metadata": {
        "id": "xJYcxC3Tqdev"
      },
      "execution_count": 56,
      "outputs": []
    },
    {
      "cell_type": "code",
      "source": [
        "train_dataset = CustomDataset(\"non_linear.csv\")\n",
        "train_dataloader = DataLoader(train_dataset, batch_size=128, shuffle=True, drop_last=True)\n",
        "\n",
        "device = \"cuda\" if torch.cuda.is_available() else \"cpu\"\n",
        "model = CustomModel().to(device)\n",
        "criterion = nn.MSELoss().to(device)\n",
        "optimizer = optim.SGD(model.parameters(), lr=0.0001)"
      ],
      "metadata": {
        "id": "1Hh1TP3xqmec"
      },
      "execution_count": 57,
      "outputs": []
    },
    {
      "cell_type": "code",
      "source": [
        "checkpoint = 1\n",
        "for epoch in range(10000):\n",
        "    cost = 0.0\n",
        "\n",
        "    for x, y in train_dataloader:\n",
        "        x = x.to(device)\n",
        "        y = y.to(device)\n",
        "\n",
        "        output = model(x)\n",
        "        loss = criterion(output, y)\n",
        "\n",
        "        optimizer.zero_grad()\n",
        "        loss.backward()\n",
        "        optimizer.step()\n",
        "\n",
        "        cost += loss\n",
        "\n",
        "    cost = cost / len(train_dataloader)\n",
        "\n",
        "    if (epoch + 1) % 1000 == 0:\n",
        "      #모델 저장 함수\n",
        "        torch.save(\n",
        "            {\n",
        "                \"model\": \"CustomModel\",\n",
        "                \"epoch\": epoch,\n",
        "                \"model_state_dict\": model.state_dict(),\n",
        "                \"optimizer_state_dict\": optimizer.state_dict(),\n",
        "                \"cost\": cost,\n",
        "                \"description\": f\"CustomModel 체크포인트-{checkpoint}\",\n",
        "            },\n",
        "            f\"checkpoint-{checkpoint}.pt\",\n",
        "        )\n",
        "        checkpoint += 1"
      ],
      "metadata": {
        "id": "2EjLVuW4qoRC"
      },
      "execution_count": 58,
      "outputs": []
    },
    {
      "cell_type": "code",
      "source": [
        "with torch.no_grad():\n",
        "    model.eval()\n",
        "    inputs = torch.FloatTensor(\n",
        "        [\n",
        "            [1 ** 2, 1],\n",
        "            [5 ** 2, 5],\n",
        "            [11 ** 2, 11]\n",
        "        ]\n",
        "    ).to(device)\n",
        "    outputs = model(inputs)\n",
        "    print(outputs)"
      ],
      "metadata": {
        "colab": {
          "base_uri": "https://localhost:8080/"
        },
        "id": "hsn3lKzEqqLn",
        "outputId": "5be2a935-c37b-44cb-9376-b332a1ccf0b8"
      },
      "execution_count": 59,
      "outputs": [
        {
          "output_type": "stream",
          "name": "stdout",
          "text": [
            "tensor([[  1.5670],\n",
            "        [ 69.2779],\n",
            "        [357.1521]])\n"
          ]
        }
      ]
    },
    {
      "cell_type": "markdown",
      "source": [
        "## 체크포인트 불러오기"
      ],
      "metadata": {
        "id": "T_1IEcH-qr-t"
      }
    },
    {
      "cell_type": "code",
      "source": [
        "import torch\n",
        "import pandas as pd\n",
        "from torch import nn\n",
        "from torch import optim\n",
        "from torch.utils.data import Dataset, DataLoader\n",
        "\n",
        "\n",
        "class CustomDataset(Dataset):\n",
        "    def __init__(self, file_path):\n",
        "        df = pd.read_csv(file_path)\n",
        "        self.x = df.iloc[:, 0].values\n",
        "        self.y = df.iloc[:, 1].values\n",
        "        self.length = len(df)\n",
        "\n",
        "    def __getitem__(self, index):\n",
        "        x = torch.FloatTensor([self.x[index] ** 2, self.x[index]])\n",
        "        y = torch.FloatTensor([self.y[index]])\n",
        "        return x, y\n",
        "\n",
        "    def __len__(self):\n",
        "        return self.length\n",
        "\n",
        "class CustomModel(nn.Module):\n",
        "    def __init__(self):\n",
        "        super().__init__()\n",
        "        self.layer = nn.Linear(2, 1)\n",
        "\n",
        "    def forward(self, x):\n",
        "        x = self.layer(x)\n",
        "        return x"
      ],
      "metadata": {
        "id": "Uygl5bUJqvb7"
      },
      "execution_count": 60,
      "outputs": []
    },
    {
      "cell_type": "code",
      "source": [
        "train_dataset = CustomDataset(\"non_linear.csv\")\n",
        "train_dataloader = DataLoader(train_dataset, batch_size=128, shuffle=True, drop_last=True)"
      ],
      "metadata": {
        "id": "8ccxIlk_qx6U"
      },
      "execution_count": 61,
      "outputs": []
    },
    {
      "cell_type": "code",
      "source": [
        "device = \"cuda\" if torch.cuda.is_available() else \"cpu\"\n",
        "model = CustomModel().to(device)\n",
        "criterion = nn.MSELoss().to(device)\n",
        "optimizer = optim.SGD(model.parameters(), lr=0.0001)"
      ],
      "metadata": {
        "id": "hQiB6IO6qziy"
      },
      "execution_count": 62,
      "outputs": []
    },
    {
      "cell_type": "code",
      "source": [
        "checkpoint = torch.load(\"checkpoint-6.pt\")\n",
        "model.load_state_dict(checkpoint[\"model_state_dict\"]) #모델 불러올 때 사용\n",
        "optimizer.load_state_dict(checkpoint[\"optimizer_state_dict\"])\n",
        "checkpoint_epoch = checkpoint[\"epoch\"]\n",
        "checkpoint_description = checkpoint[\"description\"]\n",
        "print(checkpoint_description)"
      ],
      "metadata": {
        "colab": {
          "base_uri": "https://localhost:8080/"
        },
        "id": "bi24KFHoq1FH",
        "outputId": "c1464e3d-a390-42a8-a17e-6f37db679dfa"
      },
      "execution_count": 63,
      "outputs": [
        {
          "output_type": "stream",
          "name": "stdout",
          "text": [
            "CustomModel 체크포인트-6\n"
          ]
        },
        {
          "output_type": "stream",
          "name": "stderr",
          "text": [
            "<ipython-input-63-715168366109>:1: FutureWarning: You are using `torch.load` with `weights_only=False` (the current default value), which uses the default pickle module implicitly. It is possible to construct malicious pickle data which will execute arbitrary code during unpickling (See https://github.com/pytorch/pytorch/blob/main/SECURITY.md#untrusted-models for more details). In a future release, the default value for `weights_only` will be flipped to `True`. This limits the functions that could be executed during unpickling. Arbitrary objects will no longer be allowed to be loaded via this mode unless they are explicitly allowlisted by the user via `torch.serialization.add_safe_globals`. We recommend you start setting `weights_only=True` for any use case where you don't have full control of the loaded file. Please open an issue on GitHub for any issues related to this experimental feature.\n",
            "  checkpoint = torch.load(\"checkpoint-6.pt\")\n"
          ]
        }
      ]
    },
    {
      "cell_type": "code",
      "source": [
        "for epoch in range(checkpoint_epoch + 1, 10000):\n",
        "    cost = 0.0\n",
        "\n",
        "    for x, y in train_dataloader:\n",
        "        x = x.to(device)\n",
        "        y = y.to(device)\n",
        "\n",
        "        output = model(x)\n",
        "        loss = criterion(output, y)\n",
        "\n",
        "        optimizer.zero_grad()\n",
        "        loss.backward()\n",
        "        optimizer.step()\n",
        "\n",
        "        cost += loss\n",
        "        if (epoch + 1) % 1000 == 0:\n",
        "            print(f\"Epoch : {epoch+1:4d}, Model : {list(model.parameters())}, Cost : {cost:.3f}\")"
      ],
      "metadata": {
        "colab": {
          "base_uri": "https://localhost:8080/"
        },
        "id": "5xJgwP1Hq2py",
        "outputId": "2d22bf0c-8ee5-4525-e0e2-ec61d0c8e39f"
      },
      "execution_count": 64,
      "outputs": [
        {
          "output_type": "stream",
          "name": "stdout",
          "text": [
            "Epoch : 7000, Model : [Parameter containing:\n",
            "tensor([[ 3.1071, -1.7026]], requires_grad=True), Parameter containing:\n",
            "tensor([0.0643], requires_grad=True)], Cost : 0.163\n",
            "Epoch : 8000, Model : [Parameter containing:\n",
            "tensor([[ 3.1062, -1.7029]], requires_grad=True), Parameter containing:\n",
            "tensor([0.1008], requires_grad=True)], Cost : 0.152\n",
            "Epoch : 9000, Model : [Parameter containing:\n",
            "tensor([[ 3.1056, -1.7027]], requires_grad=True), Parameter containing:\n",
            "tensor([0.1343], requires_grad=True)], Cost : 0.127\n",
            "Epoch : 10000, Model : [Parameter containing:\n",
            "tensor([[ 3.1053, -1.7026]], requires_grad=True), Parameter containing:\n",
            "tensor([0.1649], requires_grad=True)], Cost : 0.138\n"
          ]
        }
      ]
    },
    {
      "cell_type": "markdown",
      "source": [
        "## 이진 분류"
      ],
      "metadata": {
        "id": "dgqSuImxq6V9"
      }
    },
    {
      "cell_type": "code",
      "source": [
        "class CustomDataset(Dataset):\n",
        "    def __init__(self, file_path):\n",
        "        df = pd.read_csv(file_path)\n",
        "        self.x1 = df.iloc[:, 0].values\n",
        "        self.x2 = df.iloc[:, 1].values\n",
        "        self.x3 = df.iloc[:, 2].values\n",
        "        self.y = df.iloc[:, 3].values\n",
        "        self.length = len(df)\n",
        "\n",
        "    def __getitem__(self, index):\n",
        "        x = torch.FloatTensor([self.x1[index], self.x2[index], self.x3[index]])\n",
        "        y = torch.FloatTensor([int(self.y[index])])\n",
        "        return x, y\n",
        "\n",
        "    def __len__(self):\n",
        "        return self.length"
      ],
      "metadata": {
        "id": "eOyoDcuWq4aS"
      },
      "execution_count": 65,
      "outputs": []
    },
    {
      "cell_type": "code",
      "source": [
        "class CustomModel(nn.Module):\n",
        "    def __init__(self):\n",
        "        super().__init__()\n",
        "        self.layer = nn.Sequential( # 시퀀셜로 여러계층을 하나로 묶음\n",
        "          nn.Linear(3, 1),\n",
        "          nn.Sigmoid() #활성화함수로 시그모이드사용\n",
        "        )\n",
        "\n",
        "    def forward(self, x):\n",
        "        x = self.layer(x)\n",
        "        return x"
      ],
      "metadata": {
        "id": "LHRjKBx8rAe4"
      },
      "execution_count": 66,
      "outputs": []
    },
    {
      "cell_type": "code",
      "source": [
        "dataset = CustomDataset(\"binary.csv\")\n",
        "dataset_size = len(dataset)\n",
        "train_size = int(dataset_size * 0.8)\n",
        "validation_size = int(dataset_size * 0.1)\n",
        "test_size = dataset_size - train_size - validation_size\n",
        "\n",
        "train_dataset, validation_dataset, test_dataset = random_split(dataset, [train_size, validation_size, test_size], torch.manual_seed(4))\n",
        "train_dataloader = DataLoader(train_dataset, batch_size=64, shuffle=True, drop_last=True)\n",
        "validation_dataloader = DataLoader(validation_dataset, batch_size=4, shuffle=True, drop_last=True)\n",
        "test_dataloader = DataLoader(test_dataset, batch_size=4, shuffle=True, drop_last=True)"
      ],
      "metadata": {
        "id": "K7lNpIYtrBif"
      },
      "execution_count": 67,
      "outputs": []
    },
    {
      "cell_type": "code",
      "source": [
        "device = \"cuda\" if torch.cuda.is_available() else \"cpu\"\n",
        "model = CustomModel().to(device)\n",
        "criterion = nn.BCELoss().to(device)\n",
        "optimizer = optim.SGD(model.parameters(), lr=0.0001)"
      ],
      "metadata": {
        "id": "v6F5tY-qrDUz"
      },
      "execution_count": 68,
      "outputs": []
    },
    {
      "cell_type": "code",
      "source": [
        "for epoch in range(10000):\n",
        "    cost = 0.0\n",
        "\n",
        "    for x, y in train_dataloader:\n",
        "        x = x.to(device)\n",
        "        y = y.to(device)\n",
        "\n",
        "        output = model(x)\n",
        "        loss = criterion(output, y)\n",
        "\n",
        "        optimizer.zero_grad()\n",
        "        loss.backward()\n",
        "        optimizer.step()\n",
        "\n",
        "        cost += loss\n",
        "\n",
        "    cost = cost / len(train_dataloader)\n",
        "\n",
        "    if (epoch + 1) % 1000 == 0:\n",
        "        print(f\"Epoch : {epoch+1:4d}, Model : {list(model.parameters())}, Cost : {cost:.3f}\")"
      ],
      "metadata": {
        "colab": {
          "base_uri": "https://localhost:8080/"
        },
        "id": "Sr2Q7-frrEwL",
        "outputId": "3fa67966-5e03-4621-913c-6c6331eff7fc"
      },
      "execution_count": 69,
      "outputs": [
        {
          "output_type": "stream",
          "name": "stdout",
          "text": [
            "Epoch : 1000, Model : [Parameter containing:\n",
            "tensor([[ 0.0028, -0.0006,  0.0036]], requires_grad=True), Parameter containing:\n",
            "tensor([0.0949], requires_grad=True)], Cost : 0.680\n",
            "Epoch : 2000, Model : [Parameter containing:\n",
            "tensor([[0.0034, 0.0005, 0.0041]], requires_grad=True), Parameter containing:\n",
            "tensor([-0.0346], requires_grad=True)], Cost : 0.666\n",
            "Epoch : 3000, Model : [Parameter containing:\n",
            "tensor([[0.0045, 0.0017, 0.0051]], requires_grad=True), Parameter containing:\n",
            "tensor([-0.1609], requires_grad=True)], Cost : 0.652\n",
            "Epoch : 4000, Model : [Parameter containing:\n",
            "tensor([[0.0052, 0.0017, 0.0053]], requires_grad=True), Parameter containing:\n",
            "tensor([-0.2843], requires_grad=True)], Cost : 0.636\n",
            "Epoch : 5000, Model : [Parameter containing:\n",
            "tensor([[0.0059, 0.0036, 0.0064]], requires_grad=True), Parameter containing:\n",
            "tensor([-0.4046], requires_grad=True)], Cost : 0.627\n",
            "Epoch : 6000, Model : [Parameter containing:\n",
            "tensor([[0.0065, 0.0034, 0.0068]], requires_grad=True), Parameter containing:\n",
            "tensor([-0.5220], requires_grad=True)], Cost : 0.613\n",
            "Epoch : 7000, Model : [Parameter containing:\n",
            "tensor([[0.0064, 0.0036, 0.0069]], requires_grad=True), Parameter containing:\n",
            "tensor([-0.6366], requires_grad=True)], Cost : 0.604\n",
            "Epoch : 8000, Model : [Parameter containing:\n",
            "tensor([[0.0073, 0.0050, 0.0079]], requires_grad=True), Parameter containing:\n",
            "tensor([-0.7485], requires_grad=True)], Cost : 0.591\n",
            "Epoch : 9000, Model : [Parameter containing:\n",
            "tensor([[0.0074, 0.0058, 0.0082]], requires_grad=True), Parameter containing:\n",
            "tensor([-0.8577], requires_grad=True)], Cost : 0.585\n",
            "Epoch : 10000, Model : [Parameter containing:\n",
            "tensor([[0.0089, 0.0070, 0.0096]], requires_grad=True), Parameter containing:\n",
            "tensor([-0.9644], requires_grad=True)], Cost : 0.576\n"
          ]
        }
      ]
    },
    {
      "cell_type": "code",
      "source": [
        "with torch.no_grad():\n",
        "    model.eval()\n",
        "    for x, y in validation_dataloader:\n",
        "        x = x.to(device)\n",
        "        y = y.to(device)\n",
        "\n",
        "        outputs = model(x)\n",
        "\n",
        "        print(outputs)\n",
        "        print(outputs >= torch.FloatTensor([0.5]).to(device))\n",
        "        print(\"--------------------\")"
      ],
      "metadata": {
        "colab": {
          "base_uri": "https://localhost:8080/"
        },
        "id": "-Hci5h8BrGtz",
        "outputId": "acdf5f8f-8053-4ee8-daae-549d2add824e"
      },
      "execution_count": 70,
      "outputs": [
        {
          "output_type": "stream",
          "name": "stdout",
          "text": [
            "tensor([[0.6707],\n",
            "        [0.7298],\n",
            "        [0.7368],\n",
            "        [0.7800]])\n",
            "tensor([[True],\n",
            "        [True],\n",
            "        [True],\n",
            "        [True]])\n",
            "--------------------\n",
            "tensor([[0.5723],\n",
            "        [0.6746],\n",
            "        [0.4676],\n",
            "        [0.3640]])\n",
            "tensor([[ True],\n",
            "        [ True],\n",
            "        [False],\n",
            "        [False]])\n",
            "--------------------\n",
            "tensor([[0.5711],\n",
            "        [0.6363],\n",
            "        [0.3985],\n",
            "        [0.6238]])\n",
            "tensor([[ True],\n",
            "        [ True],\n",
            "        [False],\n",
            "        [ True]])\n",
            "--------------------\n",
            "tensor([[0.6304],\n",
            "        [0.7174],\n",
            "        [0.5751],\n",
            "        [0.6137]])\n",
            "tensor([[True],\n",
            "        [True],\n",
            "        [True],\n",
            "        [True]])\n",
            "--------------------\n",
            "tensor([[0.7460],\n",
            "        [0.6951],\n",
            "        [0.7555],\n",
            "        [0.6498]])\n",
            "tensor([[True],\n",
            "        [True],\n",
            "        [True],\n",
            "        [True]])\n",
            "--------------------\n",
            "tensor([[0.8068],\n",
            "        [0.7557],\n",
            "        [0.6456],\n",
            "        [0.7380]])\n",
            "tensor([[True],\n",
            "        [True],\n",
            "        [True],\n",
            "        [True]])\n",
            "--------------------\n",
            "tensor([[0.4245],\n",
            "        [0.7069],\n",
            "        [0.5908],\n",
            "        [0.7803]])\n",
            "tensor([[False],\n",
            "        [ True],\n",
            "        [ True],\n",
            "        [ True]])\n",
            "--------------------\n",
            "tensor([[0.7010],\n",
            "        [0.7245],\n",
            "        [0.6922],\n",
            "        [0.3698]])\n",
            "tensor([[ True],\n",
            "        [ True],\n",
            "        [ True],\n",
            "        [False]])\n",
            "--------------------\n",
            "tensor([[0.5778],\n",
            "        [0.6604],\n",
            "        [0.5856],\n",
            "        [0.7111]])\n",
            "tensor([[True],\n",
            "        [True],\n",
            "        [True],\n",
            "        [True]])\n",
            "--------------------\n",
            "tensor([[0.4945],\n",
            "        [0.7144],\n",
            "        [0.6279],\n",
            "        [0.6441]])\n",
            "tensor([[False],\n",
            "        [ True],\n",
            "        [ True],\n",
            "        [ True]])\n",
            "--------------------\n",
            "tensor([[0.7215],\n",
            "        [0.6991],\n",
            "        [0.7697],\n",
            "        [0.5773]])\n",
            "tensor([[True],\n",
            "        [True],\n",
            "        [True],\n",
            "        [True]])\n",
            "--------------------\n",
            "tensor([[0.6765],\n",
            "        [0.4486],\n",
            "        [0.7386],\n",
            "        [0.7285]])\n",
            "tensor([[ True],\n",
            "        [False],\n",
            "        [ True],\n",
            "        [ True]])\n",
            "--------------------\n",
            "tensor([[0.6775],\n",
            "        [0.5103],\n",
            "        [0.5580],\n",
            "        [0.6634]])\n",
            "tensor([[True],\n",
            "        [True],\n",
            "        [True],\n",
            "        [True]])\n",
            "--------------------\n",
            "tensor([[0.5301],\n",
            "        [0.5563],\n",
            "        [0.3649],\n",
            "        [0.4759]])\n",
            "tensor([[ True],\n",
            "        [ True],\n",
            "        [False],\n",
            "        [False]])\n",
            "--------------------\n",
            "tensor([[0.7732],\n",
            "        [0.7340],\n",
            "        [0.7242],\n",
            "        [0.6318]])\n",
            "tensor([[True],\n",
            "        [True],\n",
            "        [True],\n",
            "        [True]])\n",
            "--------------------\n",
            "tensor([[0.6975],\n",
            "        [0.3844],\n",
            "        [0.5528],\n",
            "        [0.4122]])\n",
            "tensor([[ True],\n",
            "        [False],\n",
            "        [ True],\n",
            "        [False]])\n",
            "--------------------\n",
            "tensor([[0.4621],\n",
            "        [0.7796],\n",
            "        [0.5776],\n",
            "        [0.6426]])\n",
            "tensor([[False],\n",
            "        [ True],\n",
            "        [ True],\n",
            "        [ True]])\n",
            "--------------------\n",
            "tensor([[0.6681],\n",
            "        [0.4632],\n",
            "        [0.4959],\n",
            "        [0.4399]])\n",
            "tensor([[ True],\n",
            "        [False],\n",
            "        [False],\n",
            "        [False]])\n",
            "--------------------\n",
            "tensor([[0.7320],\n",
            "        [0.5588],\n",
            "        [0.6654],\n",
            "        [0.4713]])\n",
            "tensor([[ True],\n",
            "        [ True],\n",
            "        [ True],\n",
            "        [False]])\n",
            "--------------------\n",
            "tensor([[0.5140],\n",
            "        [0.7236],\n",
            "        [0.5794],\n",
            "        [0.5472]])\n",
            "tensor([[True],\n",
            "        [True],\n",
            "        [True],\n",
            "        [True]])\n",
            "--------------------\n",
            "tensor([[0.6813],\n",
            "        [0.5783],\n",
            "        [0.6476],\n",
            "        [0.3883]])\n",
            "tensor([[ True],\n",
            "        [ True],\n",
            "        [ True],\n",
            "        [False]])\n",
            "--------------------\n",
            "tensor([[0.3664],\n",
            "        [0.7196],\n",
            "        [0.7116],\n",
            "        [0.6520]])\n",
            "tensor([[False],\n",
            "        [ True],\n",
            "        [ True],\n",
            "        [ True]])\n",
            "--------------------\n",
            "tensor([[0.6375],\n",
            "        [0.5122],\n",
            "        [0.6827],\n",
            "        [0.6221]])\n",
            "tensor([[True],\n",
            "        [True],\n",
            "        [True],\n",
            "        [True]])\n",
            "--------------------\n",
            "tensor([[0.7563],\n",
            "        [0.6743],\n",
            "        [0.3967],\n",
            "        [0.7840]])\n",
            "tensor([[ True],\n",
            "        [ True],\n",
            "        [False],\n",
            "        [ True]])\n",
            "--------------------\n",
            "tensor([[0.5797],\n",
            "        [0.7276],\n",
            "        [0.6039],\n",
            "        [0.5545]])\n",
            "tensor([[True],\n",
            "        [True],\n",
            "        [True],\n",
            "        [True]])\n",
            "--------------------\n"
          ]
        }
      ]
    },
    {
      "cell_type": "markdown",
      "source": [
        "## 모델 구조와 초깃값"
      ],
      "metadata": {
        "id": "mciMgv05rMIc"
      }
    },
    {
      "cell_type": "code",
      "source": [
        "class CustomModel(nn.Module):\n",
        "    def __init__(self):\n",
        "        super().__init__()\n",
        "\n",
        "        self.layer1 = nn.Sequential(\n",
        "            nn.Linear(2, 2),\n",
        "            nn.Sigmoid()\n",
        "        )\n",
        "        self.layer2 = nn.Sequential(\n",
        "            nn.Linear(2, 1),\n",
        "            nn.Sigmoid()\n",
        "        )\n",
        "\n",
        "        self.layer1[0].weight.data = torch.nn.Parameter(\n",
        "            torch.Tensor([[0.4352, 0.3545],\n",
        "                         [0.1951, 0.4835]])\n",
        "        )\n",
        "\n",
        "        self.layer1[0].bias.data = torch.nn.Parameter(\n",
        "            torch.Tensor([-0.1419,  0.0439])\n",
        "        )\n",
        "\n",
        "        self.layer2[0].weight.data = torch.nn.Parameter(\n",
        "            torch.Tensor([[-0.1725,  0.1129]])\n",
        "        )\n",
        "\n",
        "        self.layer2[0].bias.data = torch.nn.Parameter(\n",
        "            torch.Tensor([-0.3043])\n",
        "        )\n",
        "\n",
        "device = \"cuda\" if torch.cuda.is_available() else \"cpu\"\n",
        "model = CustomModel().to(device)\n",
        "criterion = nn.BCELoss().to(device)\n",
        "optimizer = optim.SGD(model.parameters(), lr=1)"
      ],
      "metadata": {
        "id": "8l0ut5ubrOPG"
      },
      "execution_count": 71,
      "outputs": []
    },
    {
      "cell_type": "markdown",
      "source": [
        "## 단층 퍼셉트론 구조"
      ],
      "metadata": {
        "id": "eWEEj3R3rPJj"
      }
    },
    {
      "cell_type": "code",
      "source": [
        "class CustomDataset(Dataset):\n",
        "    def __init__(self, file_path):\n",
        "        df = pd.read_csv(file_path)\n",
        "        self.x1 = df.iloc[:, 0].values\n",
        "        self.x2 = df.iloc[:, 1].values\n",
        "        self.y = df.iloc[:, 2].values\n",
        "        self.length = len(df)\n",
        "\n",
        "    def __getitem__(self, index):\n",
        "        x = torch.FloatTensor([self.x1[index], self.x2[index]])\n",
        "        y = torch.FloatTensor([self.y[index]])\n",
        "        return x, y\n",
        "\n",
        "    def __len__(self):\n",
        "        return self.length\n",
        "\n",
        "class CustomModel(nn.Module):\n",
        "    def __init__(self):\n",
        "        super().__init__()\n",
        "\n",
        "        self.layer = nn.Sequential(\n",
        "            nn.Linear(2, 1),\n",
        "            nn.Sigmoid()\n",
        "        )\n",
        "\n",
        "    def forward(self, x):\n",
        "        x = self.layer(x)\n",
        "        return x"
      ],
      "metadata": {
        "id": "uyiVYSTMrIRU"
      },
      "execution_count": 72,
      "outputs": []
    },
    {
      "cell_type": "code",
      "source": [
        "train_dataset = CustomDataset(\"perceptron.csv\")\n",
        "train_dataloader = DataLoader(train_dataset, batch_size=64, shuffle=True, drop_last=True)"
      ],
      "metadata": {
        "id": "4QvH9W5FrUMs"
      },
      "execution_count": 73,
      "outputs": []
    },
    {
      "cell_type": "code",
      "source": [
        "device = \"cuda\" if torch.cuda.is_available() else \"cpu\"\n",
        "model = CustomModel().to(device)\n",
        "criterion = nn.BCELoss().to(device)\n",
        "optimizer = optim.SGD(model.parameters(), lr=0.01)"
      ],
      "metadata": {
        "id": "XlVGAeyPrWBj"
      },
      "execution_count": 74,
      "outputs": []
    },
    {
      "cell_type": "code",
      "source": [
        "for epoch in range(10000):\n",
        "    cost = 0.0\n",
        "\n",
        "    for x, y in train_dataloader:\n",
        "        x = x.to(device)\n",
        "        y = y.to(device)\n",
        "\n",
        "        output = model(x)\n",
        "        loss = criterion(output, y)\n",
        "\n",
        "        optimizer.zero_grad()\n",
        "        loss.backward()\n",
        "        optimizer.step()\n",
        "\n",
        "        cost += loss\n",
        "\n",
        "    cost = cost / len(train_dataloader)\n",
        "\n",
        "    if (epoch + 1) % 1000 == 0:\n",
        "        print(f\"Epoch : {epoch+1:4d}, Cost : {cost:.3f}\")"
      ],
      "metadata": {
        "colab": {
          "base_uri": "https://localhost:8080/"
        },
        "id": "Zhv_Ly1SrXeM",
        "outputId": "99e58d53-6c9c-4d5f-fbe4-2f8a054cae9e"
      },
      "execution_count": 75,
      "outputs": [
        {
          "output_type": "stream",
          "name": "stderr",
          "text": [
            "<ipython-input-72-b746038c3bc6>:10: DeprecationWarning: In future, it will be an error for 'np.bool_' scalars to be interpreted as an index\n",
            "  x = torch.FloatTensor([self.x1[index], self.x2[index]])\n",
            "<ipython-input-72-b746038c3bc6>:11: DeprecationWarning: In future, it will be an error for 'np.bool_' scalars to be interpreted as an index\n",
            "  y = torch.FloatTensor([self.y[index]])\n"
          ]
        },
        {
          "output_type": "stream",
          "name": "stdout",
          "text": [
            "Epoch : 1000, Cost : 0.692\n",
            "Epoch : 2000, Cost : 0.692\n",
            "Epoch : 3000, Cost : 0.692\n",
            "Epoch : 4000, Cost : 0.692\n",
            "Epoch : 5000, Cost : 0.692\n",
            "Epoch : 6000, Cost : 0.692\n",
            "Epoch : 7000, Cost : 0.692\n",
            "Epoch : 8000, Cost : 0.693\n",
            "Epoch : 9000, Cost : 0.692\n",
            "Epoch : 10000, Cost : 0.692\n"
          ]
        }
      ]
    },
    {
      "cell_type": "code",
      "source": [
        "with torch.no_grad():\n",
        "    model.eval()\n",
        "    inputs = torch.FloatTensor([\n",
        "        [0, 0],\n",
        "        [0, 1],\n",
        "        [1, 0],\n",
        "        [1, 1]\n",
        "    ]).to(device)\n",
        "    outputs = model(inputs)\n",
        "\n",
        "    print(\"---------\")\n",
        "    print(outputs)\n",
        "    print(outputs <= 0.5)"
      ],
      "metadata": {
        "colab": {
          "base_uri": "https://localhost:8080/"
        },
        "id": "PjyN6GBJrZLW",
        "outputId": "a2aae7e9-6526-4683-8452-db08ecf8c261"
      },
      "execution_count": 76,
      "outputs": [
        {
          "output_type": "stream",
          "name": "stdout",
          "text": [
            "---------\n",
            "tensor([[0.4667],\n",
            "        [0.4980],\n",
            "        [0.5032],\n",
            "        [0.5344]])\n",
            "tensor([[ True],\n",
            "        [ True],\n",
            "        [False],\n",
            "        [False]])\n"
          ]
        }
      ]
    },
    {
      "cell_type": "markdown",
      "source": [
        "# 다층 퍼셉트론 구조"
      ],
      "metadata": {
        "id": "zt3wZ0o-rbq7"
      }
    },
    {
      "cell_type": "code",
      "source": [
        "class CustomDataset(Dataset):\n",
        "    def __init__(self, file_path):\n",
        "        df = pd.read_csv(file_path)\n",
        "        self.x1 = df.iloc[:, 0].values\n",
        "        self.x2 = df.iloc[:, 1].values\n",
        "        self.y = df.iloc[:, 2].values\n",
        "        self.length = len(df)\n",
        "\n",
        "    def __getitem__(self, index):\n",
        "        x = torch.FloatTensor([self.x1[index], self.x2[index]])\n",
        "        y = torch.FloatTensor([self.y[index]])\n",
        "        return x, y\n",
        "\n",
        "    def __len__(self):\n",
        "        return self.length\n",
        "\n",
        "class CustomModel(nn.Module):\n",
        "    def __init__(self):\n",
        "        super().__init__()\n",
        "\n",
        "        self.layer1 = nn.Sequential(\n",
        "            nn.Linear(2, 2),\n",
        "            nn.Sigmoid()\n",
        "        )\n",
        "        self.layer2 = nn.Sequential(\n",
        "            nn.Linear(2, 1),\n",
        "            nn.Sigmoid()\n",
        "        )\n",
        "\n",
        "    def forward(self, x):\n",
        "        x = self.layer1(x)\n",
        "        x = self.layer2(x)\n",
        "        return x\n"
      ],
      "metadata": {
        "id": "f45Cwq8grgup"
      },
      "execution_count": 77,
      "outputs": []
    },
    {
      "cell_type": "code",
      "source": [
        "train_dataset = CustomDataset(\"perceptron.csv\")\n",
        "train_dataloader = DataLoader(train_dataset, batch_size=64, shuffle=True, drop_last=True)"
      ],
      "metadata": {
        "id": "tcuZphsErhjs"
      },
      "execution_count": 78,
      "outputs": []
    },
    {
      "cell_type": "code",
      "source": [
        "device = \"cuda\" if torch.cuda.is_available() else \"cpu\"\n",
        "model = CustomModel().to(device)\n",
        "criterion = nn.BCELoss().to(device)\n",
        "optimizer = optim.SGD(model.parameters(), lr=0.01)"
      ],
      "metadata": {
        "id": "gvJWHO7nrjvd"
      },
      "execution_count": 79,
      "outputs": []
    },
    {
      "cell_type": "code",
      "source": [
        "for epoch in range(10000):\n",
        "    cost = 0.0\n",
        "\n",
        "    for x, y in train_dataloader:\n",
        "        x = x.to(device)\n",
        "        y = y.to(device)\n",
        "\n",
        "        output = model(x)\n",
        "        loss = criterion(output, y)\n",
        "\n",
        "        optimizer.zero_grad()\n",
        "        loss.backward()\n",
        "        optimizer.step()\n",
        "\n",
        "        cost += loss\n",
        "\n",
        "    cost = cost / len(train_dataloader)\n",
        "\n",
        "    if (epoch + 1) % 1000 == 0:\n",
        "        print(f\"Epoch : {epoch+1:4d}, Cost : {cost:.3f}\")"
      ],
      "metadata": {
        "colab": {
          "base_uri": "https://localhost:8080/"
        },
        "id": "0QTHvsdkrlZq",
        "outputId": "a54a61f1-e03b-4353-98e8-f53382d4268e"
      },
      "execution_count": 80,
      "outputs": [
        {
          "output_type": "stream",
          "name": "stderr",
          "text": [
            "<ipython-input-77-44d2a935d29f>:10: DeprecationWarning: In future, it will be an error for 'np.bool_' scalars to be interpreted as an index\n",
            "  x = torch.FloatTensor([self.x1[index], self.x2[index]])\n",
            "<ipython-input-77-44d2a935d29f>:11: DeprecationWarning: In future, it will be an error for 'np.bool_' scalars to be interpreted as an index\n",
            "  y = torch.FloatTensor([self.y[index]])\n"
          ]
        },
        {
          "output_type": "stream",
          "name": "stdout",
          "text": [
            "Epoch : 1000, Cost : 0.681\n",
            "Epoch : 2000, Cost : 0.533\n",
            "Epoch : 3000, Cost : 0.403\n",
            "Epoch : 4000, Cost : 0.109\n",
            "Epoch : 5000, Cost : 0.046\n",
            "Epoch : 6000, Cost : 0.028\n",
            "Epoch : 7000, Cost : 0.020\n",
            "Epoch : 8000, Cost : 0.015\n",
            "Epoch : 9000, Cost : 0.012\n",
            "Epoch : 10000, Cost : 0.010\n"
          ]
        }
      ]
    },
    {
      "cell_type": "code",
      "source": [
        "with torch.no_grad():\n",
        "    model.eval()\n",
        "    inputs = torch.FloatTensor([\n",
        "        [0, 0],\n",
        "        [0, 1],\n",
        "        [1, 0],\n",
        "        [1, 1]\n",
        "    ]).to(device)\n",
        "    outputs = model(inputs)\n",
        "\n",
        "    print(\"---------\")\n",
        "    print(outputs)\n",
        "    print(outputs <= 0.5)"
      ],
      "metadata": {
        "colab": {
          "base_uri": "https://localhost:8080/"
        },
        "id": "Ccked9FFrnAt",
        "outputId": "c397ca21-1cde-41aa-f1e1-cc728601a9ec"
      },
      "execution_count": 81,
      "outputs": [
        {
          "output_type": "stream",
          "name": "stdout",
          "text": [
            "---------\n",
            "tensor([[0.0077],\n",
            "        [0.9907],\n",
            "        [0.9907],\n",
            "        [0.0156]])\n",
            "tensor([[ True],\n",
            "        [False],\n",
            "        [False],\n",
            "        [ True]])\n"
          ]
        }
      ]
    }
  ]
}